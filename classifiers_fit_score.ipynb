{
 "cells": [
  {
   "cell_type": "code",
   "execution_count": 1,
   "metadata": {},
   "outputs": [],
   "source": [
    "from sklearn.ensemble import RandomForestClassifier\n",
    "from sklearn import svm\n",
    "from sklearn.ensemble import GradientBoostingClassifier\n",
    "from sklearn.ensemble import AdaBoostClassifier\n",
    "from sklearn.ensemble import BaggingClassifier\n",
    "from sklearn.ensemble import ExtraTreesClassifier\n",
    "from sklearn.ensemble import IsolationForest\n",
    "from sklearn.ensemble import VotingClassifier\n",
    "from sklearn.ensemble import GradientBoostingClassifier\n",
    "import pickle\n",
    "import codecs\n",
    "import numpy as np\n",
    "rf = RandomForestClassifier()\n",
    "grb = GradientBoostingClassifier()\n",
    "lin_svc = svm.LinearSVC()\n",
    "svc_clf = svm.SVC(decision_function_shape='ovo')\n",
    "ada=AdaBoostClassifier()\n",
    "bag=BaggingClassifier()\n",
    "xtr_t=ExtraTreesClassifier()"
   ]
  },
  {
   "cell_type": "code",
   "execution_count": 6,
   "metadata": {},
   "outputs": [],
   "source": [
    "X_train_mean=pickle.load( open( '../../../Diplom/face_classification/src/x_train_mean.txt', \"rb\" ) )\n",
    "X_train_med=pickle.load( open( '../../../Diplom/face_classification/src/x_train_med.txt', \"rb\" ) )\n",
    "Y_train=pickle.load( open( '../../../Diplom/face_classification/src/y_train.txt', \"rb\" ) )\n",
    "\n",
    "X_val_mean = pickle.load( open( '../../../Diplom/face_classification/src/x_val_mean.txt', \"rb\" ) )\n",
    "X_val_med=pickle.load( open( '../../../Diplom/face_classification/src/x_val_med.txt', \"rb\" ) )\n",
    "Y_val=Y_val=pickle.load( open( '../../../Diplom/face_classification/src/y_val.txt', \"rb\" ) )"
   ]
  },
  {
   "cell_type": "code",
   "execution_count": 72,
   "metadata": {},
   "outputs": [
    {
     "name": "stdout",
     "output_type": "stream",
     "text": [
      "pos\n"
     ]
    }
   ],
   "source": [
    "X_val_med[0:-699]\n",
    "print(Y_val[0:-699][-750])\n",
    "# Y_train[0:-1184]\n",
    "# X_train_med[0:-1184]\n",
    "# X_train_mean[0:-1184]\n"
   ]
  },
  {
   "cell_type": "code",
   "execution_count": 8,
   "metadata": {},
   "outputs": [],
   "source": [
    "X_train_med=np.reshape(X_train_med,(len(X_train_med),-1))\n",
    "X_train_mean=np.reshape(X_train_mean,(len(X_train_mean),-1))\n",
    "X_val_med=np.reshape(X_val_med,(len(X_val_med),-1))\n",
    "X_val_mean=np.reshape(X_val_mean,(len(X_val_mean),-1))"
   ]
  },
  {
   "cell_type": "code",
   "execution_count": 4,
   "metadata": {},
   "outputs": [],
   "source": [
    "def get_x_y_set(algorithm,layer_label):\n",
    "    x_t=pickle.load(open('x'+'_'+'train'+'_'+layer_label+'_'+algorithm, 'rb'))\n",
    "    y_t=pickle.load(open('y'+'_'+'train'+'_'+layer_label+'_'+algorithm, 'rb'))\n",
    "    x_v=pickle.load(open('x'+'_'+'val'+'_'+layer_label+'_'+algorithm, 'rb'))\n",
    "    y_v=pickle.load(open('y'+'_'+'val'+'_'+layer_label+'_'+algorithm, 'rb'))\n",
    "    x_t=np.reshape(x_t,(len(x_t),-1))\n",
    "    x_v=np.reshape(x_v,(len(x_v),-1))\n",
    "    return x_t,y_t,x_v,y_v"
   ]
  },
  {
   "cell_type": "code",
   "execution_count": 5,
   "metadata": {},
   "outputs": [
    {
     "ename": "NameError",
     "evalue": "name 'get_x_y_set' is not defined",
     "output_type": "error",
     "traceback": [
      "\u001b[0;31m---------------------------------------------------------------------------\u001b[0m",
      "\u001b[0;31mNameError\u001b[0m                                 Traceback (most recent call last)",
      "\u001b[0;32m<ipython-input-5-1d105b85f06f>\u001b[0m in \u001b[0;36m<module>\u001b[0;34m()\u001b[0m\n\u001b[0;32m----> 1\u001b[0;31m \u001b[0mget_x_y_set\u001b[0m\u001b[0;34m(\u001b[0m\u001b[0;34m'mean'\u001b[0m\u001b[0;34m,\u001b[0m\u001b[0;34m'prob'\u001b[0m\u001b[0;34m)\u001b[0m\u001b[0;34m\u001b[0m\u001b[0m\n\u001b[0m",
      "\u001b[0;31mNameError\u001b[0m: name 'get_x_y_set' is not defined"
     ]
    }
   ],
   "source": [
    "get_x_y_set('mean','prob')"
   ]
  },
  {
   "cell_type": "code",
   "execution_count": 5,
   "metadata": {},
   "outputs": [],
   "source": [
    "def fit_score_all(algorithms, layer_labels, classifiers):\n",
    "    for algorithm in algorithms:\n",
    "        for label in layer_labels:\n",
    "            x_t,y_t,x_v,y_v=get_x_y_set(algorithm,label)\n",
    "            for classifier in classifiers:\n",
    "                classifier.fit(x_t,y_t)\n",
    "                print('Classifier:'+str(classifier).split('(')[0]+'\\n'\n",
    "                      'Preused Algorithm:'+algorithm+'\\n'+'Label:'+label+'\\n'\n",
    "                      +'Accuracy:'+str(classifier.score(x_v,y_v))+'\\n\\n')\n",
    "# rf.fit(x_t\n",
    "# #           [0:-1184]\n",
    "#           , y_t\n",
    "# #           [0:-1184]\n",
    "#          )\n",
    "# grb.fit(x_t\n",
    "# #           [0:-1184]\n",
    "#           , y_t\n",
    "# #           [0:-1184]\n",
    "#          )\n",
    "# lin_svc.fit(x_t\n",
    "# #           [0:-1184]\n",
    "#           , y_t\n",
    "# #           [0:-1184]\n",
    "#          )\n",
    "# svc_clf.fit(x_t\n",
    "# #           [0:-1184]\n",
    "#           , y_t\n",
    "# #           [0:-1184]\n",
    "#          )\n",
    "# ada.fit(x_t\n",
    "# #           [0:-1184]\n",
    "#           , y_t\n",
    "# #           [0:-1184]\n",
    "#          )\n",
    "# bag.fit(x_t\n",
    "# #           [0:-1184]\n",
    "#           , y_t\n",
    "# #           [0:-1184]\n",
    "#          )\n",
    "# xtr_t.fit(x_t\n",
    "# #           [0:-1184]\n",
    "#           , y_t\n",
    "# #           [0:-1184]\n",
    "#          )\n"
   ]
  },
  {
   "cell_type": "code",
   "execution_count": 4,
   "metadata": {},
   "outputs": [],
   "source": [
    "from sklearn.model_selection import GridSearchCV"
   ]
  },
  {
   "cell_type": "code",
   "execution_count": 6,
   "metadata": {},
   "outputs": [],
   "source": [
    "def fit_score_all_grid(algorithms, layer_labels, classifiers):\n",
    "    for algorithm in algorithms:\n",
    "        for label in layer_labels:\n",
    "            x_t,y_t,x_v,y_v=get_x_y_set(algorithm,label)\n",
    "            for classifier in classifiers:\n",
    "                classifier.fit(x_t,y_t)\n",
    "                print('Classifier:'+str(classifier).split('(')[0]+'\\n'\n",
    "                      'Preused Algorithm:'+algorithm+'\\n'+'Label:'+label+'\\n'\n",
    "                      +'Accuracy:'+str(classifier.score(x_v,y_v))+'\\n\\n')\n",
    "# rf.fit(x_t\n",
    "# #           [0:-1184]\n",
    "#           , y_t\n",
    "# #           [0:-1184]\n",
    "#          )\n",
    "# grb.fit(x_t\n",
    "# #           [0:-1184]\n",
    "#           , y_t\n",
    "# #           [0:-1184]\n",
    "#          )\n",
    "# lin_svc.fit(x_t\n",
    "# #           [0:-1184]\n",
    "#           , y_t\n",
    "# #           [0:-1184]\n",
    "#          )\n",
    "# svc_clf.fit(x_t\n",
    "# #           [0:-1184]\n",
    "#           , y_t\n",
    "# #           [0:-1184]\n",
    "#          )\n",
    "# ada.fit(x_t\n",
    "# #           [0:-1184]\n",
    "#           , y_t\n",
    "# #           [0:-1184]\n",
    "#          )\n",
    "# bag.fit(x_t\n",
    "# #           [0:-1184]\n",
    "#           , y_t\n",
    "# #           [0:-1184]\n",
    "#          )\n",
    "# xtr_t.fit(x_t\n",
    "# #           [0:-1184]\n",
    "#           , y_t\n",
    "# #           [0:-1184]\n",
    "#          )\n"
   ]
  },
  {
   "cell_type": "code",
   "execution_count": 5,
   "metadata": {},
   "outputs": [
    {
     "name": "stdout",
     "output_type": "stream",
     "text": [
      "Accuracy:\n"
     ]
    },
    {
     "ename": "NameError",
     "evalue": "name 'x_v' is not defined",
     "output_type": "error",
     "traceback": [
      "\u001b[0;31m---------------------------------------------------------------------------\u001b[0m",
      "\u001b[0;31mNameError\u001b[0m                                 Traceback (most recent call last)",
      "\u001b[0;32m<ipython-input-5-0e59420fe114>\u001b[0m in \u001b[0;36m<module>\u001b[0;34m()\u001b[0m\n\u001b[1;32m      1\u001b[0m \u001b[0mprint\u001b[0m\u001b[0;34m(\u001b[0m\u001b[0;34m'Accuracy:'\u001b[0m\u001b[0;34m)\u001b[0m\u001b[0;34m\u001b[0m\u001b[0m\n\u001b[0;32m----> 2\u001b[0;31m print('RandomForestClassifier:',rf.score(x_v\n\u001b[0m\u001b[1;32m      3\u001b[0m \u001b[0;31m#             [0:-699]\u001b[0m\u001b[0;34m\u001b[0m\u001b[0;34m\u001b[0m\u001b[0m\n\u001b[1;32m      4\u001b[0m             \u001b[0;34m,\u001b[0m\u001b[0my_v\u001b[0m\u001b[0;34m\u001b[0m\u001b[0m\n\u001b[1;32m      5\u001b[0m \u001b[0;31m#             [0:-699]\u001b[0m\u001b[0;34m\u001b[0m\u001b[0;34m\u001b[0m\u001b[0m\n",
      "\u001b[0;31mNameError\u001b[0m: name 'x_v' is not defined"
     ]
    }
   ],
   "source": [
    "print('Accuracy:')\n",
    "print('RandomForestClassifier:',rf.score(x_v\n",
    "#             [0:-699]\n",
    "            ,y_v\n",
    "#             [0:-699]\n",
    "           ))\n",
    "print('GradientBoostingClassifier:',grb.score(x_v\n",
    "#             [0:-699]\n",
    "            ,y_v\n",
    "#             [0:-699]\n",
    "           ))\n",
    "print('LinearSVC:',lin_svc.score(x_v\n",
    "#             [0:-699]\n",
    "            ,y_v\n",
    "#             [0:-699]\n",
    "           ))\n",
    "print('SVC:',svc_clf.score(x_v\n",
    "#             [0:-699]\n",
    "            ,y_v\n",
    "#             [0:-699]\n",
    "           ))\n",
    "print('AdaBoostClassifier:',ada.score(x_v\n",
    "#             [0:-699]\n",
    "            ,y_v\n",
    "#             [0:-699]\n",
    "           ))\n",
    "print('BaggingClassifier:',bag.score(x_v\n",
    "#             [0:-699]\n",
    "            ,y_v\n",
    "#             [0:-699]\n",
    "           ))\n",
    "print('ExtraTreesClassifier:',xtr_t.score(x_v\n",
    "#             [0:-699]\n",
    "            ,y_v\n",
    "#             [0:-699]\n",
    "           ))"
   ]
  },
  {
   "cell_type": "code",
   "execution_count": 7,
   "metadata": {},
   "outputs": [
    {
     "name": "stdout",
     "output_type": "stream",
     "text": [
      "ExtraTreesClassifier\n"
     ]
    }
   ],
   "source": [
    "print (str(xtr_t).split('(')[0])"
   ]
  },
  {
   "cell_type": "code",
   "execution_count": 7,
   "metadata": {},
   "outputs": [
    {
     "name": "stdout",
     "output_type": "stream",
     "text": [
      "Classifier:RandomForestClassifier\n",
      "Preused Algorithm:euqMedEuq\n",
      "Label:emb\n",
      "Accuracy:0.581209395302\n",
      "\n",
      "\n",
      "Classifier:GradientBoostingClassifier\n",
      "Preused Algorithm:euqMedEuq\n",
      "Label:emb\n",
      "Accuracy:0.656171914043\n",
      "\n",
      "\n",
      "Classifier:LinearSVC\n",
      "Preused Algorithm:euqMedEuq\n",
      "Label:emb\n",
      "Accuracy:0.657671164418\n",
      "\n",
      "\n",
      "Classifier:SVC\n",
      "Preused Algorithm:euqMedEuq\n",
      "Label:emb\n",
      "Accuracy:0.646676661669\n",
      "\n",
      "\n",
      "Classifier:AdaBoostClassifier\n",
      "Preused Algorithm:euqMedEuq\n",
      "Label:emb\n",
      "Accuracy:0.624187906047\n",
      "\n",
      "\n",
      "Classifier:BaggingClassifier\n",
      "Preused Algorithm:euqMedEuq\n",
      "Label:emb\n",
      "Accuracy:0.582208895552\n",
      "\n",
      "\n",
      "Classifier:ExtraTreesClassifier\n",
      "Preused Algorithm:euqMedEuq\n",
      "Label:emb\n",
      "Accuracy:0.590204897551\n",
      "\n",
      "\n",
      "Classifier:RandomForestClassifier\n",
      "Preused Algorithm:euqMed\n",
      "Label:emb\n",
      "Accuracy:0.620189905047\n",
      "\n",
      "\n",
      "Classifier:GradientBoostingClassifier\n",
      "Preused Algorithm:euqMed\n",
      "Label:emb\n",
      "Accuracy:0.677661169415\n",
      "\n",
      "\n",
      "Classifier:LinearSVC\n",
      "Preused Algorithm:euqMed\n",
      "Label:emb\n",
      "Accuracy:0.653173413293\n",
      "\n",
      "\n",
      "Classifier:SVC\n",
      "Preused Algorithm:euqMed\n",
      "Label:emb\n",
      "Accuracy:0.651674162919\n",
      "\n",
      "\n",
      "Classifier:AdaBoostClassifier\n",
      "Preused Algorithm:euqMed\n",
      "Label:emb\n",
      "Accuracy:0.640179910045\n",
      "\n",
      "\n",
      "Classifier:BaggingClassifier\n",
      "Preused Algorithm:euqMed\n",
      "Label:emb\n",
      "Accuracy:0.623688155922\n",
      "\n",
      "\n",
      "Classifier:ExtraTreesClassifier\n",
      "Preused Algorithm:euqMed\n",
      "Label:emb\n",
      "Accuracy:0.581209395302\n",
      "\n",
      "\n",
      "Classifier:RandomForestClassifier\n",
      "Preused Algorithm:medEuq\n",
      "Label:emb\n",
      "Accuracy:0.590204897551\n",
      "\n",
      "\n",
      "Classifier:GradientBoostingClassifier\n",
      "Preused Algorithm:medEuq\n",
      "Label:emb\n",
      "Accuracy:0.648675662169\n",
      "\n",
      "\n",
      "Classifier:LinearSVC\n",
      "Preused Algorithm:medEuq\n",
      "Label:emb\n",
      "Accuracy:0.67716141929\n",
      "\n",
      "\n",
      "Classifier:SVC\n",
      "Preused Algorithm:medEuq\n",
      "Label:emb\n",
      "Accuracy:0.612193903048\n",
      "\n",
      "\n",
      "Classifier:AdaBoostClassifier\n",
      "Preused Algorithm:medEuq\n",
      "Label:emb\n",
      "Accuracy:0.622688655672\n",
      "\n",
      "\n",
      "Classifier:BaggingClassifier\n",
      "Preused Algorithm:medEuq\n",
      "Label:emb\n",
      "Accuracy:0.586706646677\n",
      "\n",
      "\n",
      "Classifier:ExtraTreesClassifier\n",
      "Preused Algorithm:medEuq\n",
      "Label:emb\n",
      "Accuracy:0.581709145427\n",
      "\n",
      "\n",
      "Classifier:RandomForestClassifier\n",
      "Preused Algorithm:euqMeanEuq\n",
      "Label:emb\n",
      "Accuracy:0.626186906547\n",
      "\n",
      "\n",
      "Classifier:GradientBoostingClassifier\n",
      "Preused Algorithm:euqMeanEuq\n",
      "Label:emb\n",
      "Accuracy:0.684157921039\n",
      "\n",
      "\n",
      "Classifier:LinearSVC\n",
      "Preused Algorithm:euqMeanEuq\n",
      "Label:emb\n",
      "Accuracy:0.678660669665\n",
      "\n",
      "\n",
      "Classifier:SVC\n",
      "Preused Algorithm:euqMeanEuq\n",
      "Label:emb\n",
      "Accuracy:0.662168915542\n",
      "\n",
      "\n",
      "Classifier:AdaBoostClassifier\n",
      "Preused Algorithm:euqMeanEuq\n",
      "Label:emb\n",
      "Accuracy:0.645177411294\n",
      "\n",
      "\n",
      "Classifier:BaggingClassifier\n",
      "Preused Algorithm:euqMeanEuq\n",
      "Label:emb\n",
      "Accuracy:0.625187406297\n",
      "\n",
      "\n",
      "Classifier:ExtraTreesClassifier\n",
      "Preused Algorithm:euqMeanEuq\n",
      "Label:emb\n",
      "Accuracy:0.618190904548\n",
      "\n",
      "\n",
      "Classifier:RandomForestClassifier\n",
      "Preused Algorithm:euqMean\n",
      "Label:emb\n",
      "Accuracy:0.634182908546\n",
      "\n",
      "\n",
      "Classifier:GradientBoostingClassifier\n",
      "Preused Algorithm:euqMean\n",
      "Label:emb\n",
      "Accuracy:0.691654172914\n",
      "\n",
      "\n",
      "Classifier:LinearSVC\n",
      "Preused Algorithm:euqMean\n",
      "Label:emb\n",
      "Accuracy:0.666666666667\n",
      "\n",
      "\n",
      "Classifier:SVC\n",
      "Preused Algorithm:euqMean\n",
      "Label:emb\n",
      "Accuracy:0.672163918041\n",
      "\n",
      "\n",
      "Classifier:AdaBoostClassifier\n",
      "Preused Algorithm:euqMean\n",
      "Label:emb\n",
      "Accuracy:0.674162918541\n",
      "\n",
      "\n",
      "Classifier:BaggingClassifier\n",
      "Preused Algorithm:euqMean\n",
      "Label:emb\n",
      "Accuracy:0.637181409295\n",
      "\n",
      "\n",
      "Classifier:ExtraTreesClassifier\n",
      "Preused Algorithm:euqMean\n",
      "Label:emb\n",
      "Accuracy:0.642178910545\n",
      "\n",
      "\n",
      "Classifier:RandomForestClassifier\n",
      "Preused Algorithm:meanEuq\n",
      "Label:emb\n",
      "Accuracy:0.623188405797\n",
      "\n",
      "\n",
      "Classifier:GradientBoostingClassifier\n",
      "Preused Algorithm:meanEuq\n",
      "Label:emb\n",
      "Accuracy:0.672663668166\n",
      "\n",
      "\n",
      "Classifier:LinearSVC\n",
      "Preused Algorithm:meanEuq\n",
      "Label:emb\n",
      "Accuracy:0.700649675162\n",
      "\n",
      "\n",
      "Classifier:SVC\n",
      "Preused Algorithm:meanEuq\n",
      "Label:emb\n",
      "Accuracy:0.649175412294\n",
      "\n",
      "\n",
      "Classifier:AdaBoostClassifier\n",
      "Preused Algorithm:meanEuq\n",
      "Label:emb\n",
      "Accuracy:0.64267866067\n",
      "\n",
      "\n",
      "Classifier:BaggingClassifier\n",
      "Preused Algorithm:meanEuq\n",
      "Label:emb\n",
      "Accuracy:0.639180409795\n",
      "\n",
      "\n",
      "Classifier:ExtraTreesClassifier\n",
      "Preused Algorithm:meanEuq\n",
      "Label:emb\n",
      "Accuracy:0.607196401799\n",
      "\n",
      "\n"
     ]
    }
   ],
   "source": [
    "rf = RandomForestClassifier()\n",
    "grb = GradientBoostingClassifier()\n",
    "lin_svc = svm.LinearSVC()\n",
    "svc_clf = svm.SVC(decision_function_shape='ovo')\n",
    "ada=AdaBoostClassifier()\n",
    "bag=BaggingClassifier()\n",
    "xtr_t=ExtraTreesClassifier()\n",
    "algorithms=['euqMedEuq','euqMed','medEuq','euqMeanEuq','euqMean','meanEuq']\n",
    "labels=['emb']\n",
    "classifiers=[rf,grb,lin_svc,svc_clf,ada,bag,xtr_t]\n",
    "fit_score_all(algorithms, labels, classifiers)"
   ]
  },
  {
   "cell_type": "code",
   "execution_count": 112,
   "metadata": {},
   "outputs": [
    {
     "data": {
      "text/plain": [
       "SVC(C=1.0, cache_size=200, class_weight=None, coef0=0.0,\n",
       "  decision_function_shape='ovo', degree=3, gamma='auto', kernel='rbf',\n",
       "  max_iter=-1, probability=False, random_state=None, shrinking=True,\n",
       "  tol=0.001, verbose=False)"
      ]
     },
     "execution_count": 112,
     "metadata": {},
     "output_type": "execute_result"
    }
   ],
   "source": []
  },
  {
   "cell_type": "code",
   "execution_count": 107,
   "metadata": {},
   "outputs": [
    {
     "data": {
      "text/plain": [
       "LinearSVC(C=1.0, class_weight=None, dual=True, fit_intercept=True,\n",
       "     intercept_scaling=1, loss='squared_hinge', max_iter=1000,\n",
       "     multi_class='ovr', penalty='l2', random_state=None, tol=0.0001,\n",
       "     verbose=0)"
      ]
     },
     "execution_count": 107,
     "metadata": {},
     "output_type": "execute_result"
    }
   ],
   "source": []
  },
  {
   "cell_type": "code",
   "execution_count": 101,
   "metadata": {},
   "outputs": [
    {
     "data": {
      "text/plain": [
       "RandomForestClassifier(bootstrap=True, class_weight=None, criterion='gini',\n",
       "            max_depth=None, max_features='auto', max_leaf_nodes=None,\n",
       "            min_impurity_decrease=0.0, min_impurity_split=None,\n",
       "            min_samples_leaf=1, min_samples_split=2,\n",
       "            min_weight_fraction_leaf=0.0, n_estimators=10, n_jobs=1,\n",
       "            oob_score=False, random_state=None, verbose=0,\n",
       "            warm_start=False)"
      ]
     },
     "execution_count": 101,
     "metadata": {},
     "output_type": "execute_result"
    }
   ],
   "source": []
  },
  {
   "cell_type": "code",
   "execution_count": 110,
   "metadata": {},
   "outputs": [
    {
     "data": {
      "text/plain": [
       "GradientBoostingClassifier(criterion='friedman_mse', init=None,\n",
       "              learning_rate=0.1, loss='deviance', max_depth=3,\n",
       "              max_features=None, max_leaf_nodes=None,\n",
       "              min_impurity_decrease=0.0, min_impurity_split=None,\n",
       "              min_samples_leaf=1, min_samples_split=2,\n",
       "              min_weight_fraction_leaf=0.0, n_estimators=100,\n",
       "              presort='auto', random_state=None, subsample=1.0, verbose=0,\n",
       "              warm_start=False)"
      ]
     },
     "execution_count": 110,
     "metadata": {},
     "output_type": "execute_result"
    }
   ],
   "source": []
  },
  {
   "cell_type": "code",
   "execution_count": 111,
   "metadata": {},
   "outputs": [
    {
     "data": {
      "text/plain": [
       "0.69399999999999995"
      ]
     },
     "execution_count": 111,
     "metadata": {},
     "output_type": "execute_result"
    }
   ],
   "source": [
    "model_gr.score(X_val_mean\n",
    "#             [0:-699]\n",
    "            ,Y_val\n",
    "#             [0:-699]\n",
    "           )"
   ]
  },
  {
   "cell_type": "code",
   "execution_count": 105,
   "metadata": {},
   "outputs": [
    {
     "data": {
      "text/plain": [
       "0.63"
      ]
     },
     "execution_count": 105,
     "metadata": {},
     "output_type": "execute_result"
    }
   ],
   "source": [
    "model_rf.score(X_val_mean\n",
    "#             [0:-699]\n",
    "            ,Y_val\n",
    "#             [0:-699]\n",
    "           )"
   ]
  },
  {
   "cell_type": "code",
   "execution_count": 108,
   "metadata": {},
   "outputs": [
    {
     "data": {
      "text/plain": [
       "0.61699999999999999"
      ]
     },
     "execution_count": 108,
     "metadata": {},
     "output_type": "execute_result"
    }
   ],
   "source": [
    "lin_clf.score(X_val_mean\n",
    "#             [0:-699]\n",
    "            ,Y_val\n",
    "#             [0:-699]\n",
    "           )"
   ]
  },
  {
   "cell_type": "code",
   "execution_count": 113,
   "metadata": {},
   "outputs": [
    {
     "data": {
      "text/plain": [
       "0.64549999999999996"
      ]
     },
     "execution_count": 113,
     "metadata": {},
     "output_type": "execute_result"
    }
   ],
   "source": [
    "clf.score(X_val_mean\n",
    "#             [0:-699]\n",
    "            ,Y_val\n",
    "#             [0:-699]\n",
    "           )"
   ]
  },
  {
   "cell_type": "code",
   "execution_count": null,
   "metadata": {},
   "outputs": [],
   "source": []
  },
  {
   "cell_type": "code",
   "execution_count": null,
   "metadata": {},
   "outputs": [],
   "source": []
  },
  {
   "cell_type": "code",
   "execution_count": null,
   "metadata": {},
   "outputs": [],
   "source": []
  },
  {
   "cell_type": "code",
   "execution_count": null,
   "metadata": {},
   "outputs": [],
   "source": []
  },
  {
   "cell_type": "code",
   "execution_count": null,
   "metadata": {},
   "outputs": [],
   "source": []
  },
  {
   "cell_type": "code",
   "execution_count": null,
   "metadata": {},
   "outputs": [],
   "source": []
  },
  {
   "cell_type": "code",
   "execution_count": null,
   "metadata": {},
   "outputs": [],
   "source": []
  },
  {
   "cell_type": "code",
   "execution_count": 8,
   "metadata": {},
   "outputs": [
    {
     "ename": "FileNotFoundError",
     "evalue": "[Errno 2] No such file or directory: '../../../Diplom/face_classification/src/negative_pre_last.txt'",
     "output_type": "error",
     "traceback": [
      "\u001b[0;31m---------------------------------------------------------------------------\u001b[0m",
      "\u001b[0;31mFileNotFoundError\u001b[0m                         Traceback (most recent call last)",
      "\u001b[0;32m<ipython-input-8-00bb95294db8>\u001b[0m in \u001b[0;36m<module>\u001b[0;34m()\u001b[0m\n\u001b[0;32m----> 1\u001b[0;31m \u001b[0md\u001b[0m \u001b[0;34m=\u001b[0m \u001b[0mpickle\u001b[0m\u001b[0;34m.\u001b[0m\u001b[0mload\u001b[0m\u001b[0;34m(\u001b[0m \u001b[0mopen\u001b[0m\u001b[0;34m(\u001b[0m \u001b[0;34m'../../../Diplom/face_classification/src/negative_pre_last.txt'\u001b[0m\u001b[0;34m,\u001b[0m \u001b[0;34m\"rb\"\u001b[0m \u001b[0;34m)\u001b[0m \u001b[0;34m)\u001b[0m\u001b[0;34m\u001b[0m\u001b[0m\n\u001b[0m",
      "\u001b[0;31mFileNotFoundError\u001b[0m: [Errno 2] No such file or directory: '../../../Diplom/face_classification/src/negative_pre_last.txt'"
     ]
    }
   ],
   "source": [
    "d = pickle.load( open( '../../../Diplom/face_classification/src/negative_pre_last.txt', \"rb\" ) )"
   ]
  },
  {
   "cell_type": "code",
   "execution_count": 2,
   "metadata": {},
   "outputs": [
    {
     "ename": "UnicodeDecodeError",
     "evalue": "'utf-8' codec can't decode byte 0x80 in position 0: invalid start byte",
     "output_type": "error",
     "traceback": [
      "\u001b[0;31m---------------------------------------------------------------------------\u001b[0m",
      "\u001b[0;31mUnicodeDecodeError\u001b[0m                        Traceback (most recent call last)",
      "\u001b[0;32m<ipython-input-2-44ad734f1151>\u001b[0m in \u001b[0;36m<module>\u001b[0;34m()\u001b[0m\n\u001b[1;32m      1\u001b[0m \u001b[0;32mwith\u001b[0m \u001b[0mopen\u001b[0m \u001b[0;34m(\u001b[0m\u001b[0;34m'../../../Diplom/face_classification/src/negative_pre_last.txt'\u001b[0m\u001b[0;34m)\u001b[0m \u001b[0;32mas\u001b[0m \u001b[0mfile\u001b[0m\u001b[0;34m:\u001b[0m\u001b[0;34m\u001b[0m\u001b[0m\n\u001b[0;32m----> 2\u001b[0;31m     \u001b[0mfile\u001b[0m\u001b[0;34m.\u001b[0m\u001b[0mread\u001b[0m\u001b[0;34m(\u001b[0m\u001b[0;34m)\u001b[0m\u001b[0;34m\u001b[0m\u001b[0m\n\u001b[0m",
      "\u001b[0;32m/usr/lib/python3.5/codecs.py\u001b[0m in \u001b[0;36mdecode\u001b[0;34m(self, input, final)\u001b[0m\n\u001b[1;32m    319\u001b[0m         \u001b[0;31m# decode input (taking the buffer into account)\u001b[0m\u001b[0;34m\u001b[0m\u001b[0;34m\u001b[0m\u001b[0m\n\u001b[1;32m    320\u001b[0m         \u001b[0mdata\u001b[0m \u001b[0;34m=\u001b[0m \u001b[0mself\u001b[0m\u001b[0;34m.\u001b[0m\u001b[0mbuffer\u001b[0m \u001b[0;34m+\u001b[0m \u001b[0minput\u001b[0m\u001b[0;34m\u001b[0m\u001b[0m\n\u001b[0;32m--> 321\u001b[0;31m         \u001b[0;34m(\u001b[0m\u001b[0mresult\u001b[0m\u001b[0;34m,\u001b[0m \u001b[0mconsumed\u001b[0m\u001b[0;34m)\u001b[0m \u001b[0;34m=\u001b[0m \u001b[0mself\u001b[0m\u001b[0;34m.\u001b[0m\u001b[0m_buffer_decode\u001b[0m\u001b[0;34m(\u001b[0m\u001b[0mdata\u001b[0m\u001b[0;34m,\u001b[0m \u001b[0mself\u001b[0m\u001b[0;34m.\u001b[0m\u001b[0merrors\u001b[0m\u001b[0;34m,\u001b[0m \u001b[0mfinal\u001b[0m\u001b[0;34m)\u001b[0m\u001b[0;34m\u001b[0m\u001b[0m\n\u001b[0m\u001b[1;32m    322\u001b[0m         \u001b[0;31m# keep undecoded input until the next call\u001b[0m\u001b[0;34m\u001b[0m\u001b[0;34m\u001b[0m\u001b[0m\n\u001b[1;32m    323\u001b[0m         \u001b[0mself\u001b[0m\u001b[0;34m.\u001b[0m\u001b[0mbuffer\u001b[0m \u001b[0;34m=\u001b[0m \u001b[0mdata\u001b[0m\u001b[0;34m[\u001b[0m\u001b[0mconsumed\u001b[0m\u001b[0;34m:\u001b[0m\u001b[0;34m]\u001b[0m\u001b[0;34m\u001b[0m\u001b[0m\n",
      "\u001b[0;31mUnicodeDecodeError\u001b[0m: 'utf-8' codec can't decode byte 0x80 in position 0: invalid start byte"
     ]
    }
   ],
   "source": [
    "with open ('../../../Diplom/face_classification/src/negative_pre_last.txt') as file:\n",
    "    file.read()"
   ]
  },
  {
   "cell_type": "code",
   "execution_count": 9,
   "metadata": {},
   "outputs": [],
   "source": [
    "from sklearn.decomposition import PCA"
   ]
  },
  {
   "cell_type": "code",
   "execution_count": 14,
   "metadata": {},
   "outputs": [],
   "source": [
    "pca = PCA(n_components=3)\n",
    "x_t,y_t,x_v,y_v = get_x_y_set(algorithm='mean',layer_label='prob')"
   ]
  },
  {
   "cell_type": "code",
   "execution_count": 15,
   "metadata": {},
   "outputs": [
    {
     "data": {
      "text/plain": [
       "PCA(copy=True, iterated_power='auto', n_components=3, random_state=None,\n",
       "  svd_solver='auto', tol=0.0, whiten=False)"
      ]
     },
     "execution_count": 15,
     "metadata": {},
     "output_type": "execute_result"
    }
   ],
   "source": [
    "pca.fit(x_t)"
   ]
  },
  {
   "cell_type": "code",
   "execution_count": 29,
   "metadata": {},
   "outputs": [],
   "source": [
    "train_3 = pca.transform(x_t)\n",
    "val_3 = pca.transform(x_v)\n",
    "train_3=np.reshape(train_3,(len(train_3),-1))\n",
    "val_3=np.reshape(val_3,(len(val_3),-1))"
   ]
  },
  {
   "cell_type": "code",
   "execution_count": 31,
   "metadata": {},
   "outputs": [
    {
     "data": {
      "text/plain": [
       "GradientBoostingClassifier(criterion='friedman_mse', init=None,\n",
       "              learning_rate=0.1, loss='deviance', max_depth=3,\n",
       "              max_features=None, max_leaf_nodes=None,\n",
       "              min_impurity_decrease=0.0, min_impurity_split=None,\n",
       "              min_samples_leaf=1, min_samples_split=2,\n",
       "              min_weight_fraction_leaf=0.0, n_estimators=100,\n",
       "              presort='auto', random_state=None, subsample=1.0, verbose=0,\n",
       "              warm_start=False)"
      ]
     },
     "execution_count": 31,
     "metadata": {},
     "output_type": "execute_result"
    }
   ],
   "source": [
    "rf = RandomForestClassifier()\n",
    "grb = GradientBoostingClassifier()\n",
    "lin_svc = svm.LinearSVC()\n",
    "svc_clf = svm.SVC(decision_function_shape='ovo')\n",
    "ada=AdaBoostClassifier()\n",
    "bag=BaggingClassifier()\n",
    "xtr_t=ExtraTreesClassifier()\n",
    "grb.fit(train_3,y_t)"
   ]
  },
  {
   "cell_type": "code",
   "execution_count": 32,
   "metadata": {},
   "outputs": [
    {
     "data": {
      "text/plain": [
       "0.64117941029485259"
      ]
     },
     "execution_count": 32,
     "metadata": {},
     "output_type": "execute_result"
    }
   ],
   "source": [
    "grb.score(val_3,y_v)"
   ]
  }
 ],
 "metadata": {
  "kernelspec": {
   "display_name": "Python 3",
   "language": "python",
   "name": "python3"
  },
  "language_info": {
   "codemirror_mode": {
    "name": "ipython",
    "version": 3
   },
   "file_extension": ".py",
   "mimetype": "text/x-python",
   "name": "python",
   "nbconvert_exporter": "python",
   "pygments_lexer": "ipython3",
   "version": "3.5.2"
  }
 },
 "nbformat": 4,
 "nbformat_minor": 2
}
