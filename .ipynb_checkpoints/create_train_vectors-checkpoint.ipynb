{
 "cells": [
  {
   "cell_type": "markdown",
   "metadata": {},
   "source": [
    "Imports"
   ]
  },
  {
   "cell_type": "code",
   "execution_count": 5,
   "metadata": {},
   "outputs": [],
   "source": [
    "import pickle\n",
    "import numpy as np\n",
    "from numpy import linalg as la"
   ]
  },
  {
   "cell_type": "code",
   "execution_count": null,
   "metadata": {},
   "outputs": [],
   "source": []
  },
  {
   "cell_type": "code",
   "execution_count": 6,
   "metadata": {},
   "outputs": [],
   "source": [
    "a=np.mean"
   ]
  },
  {
   "cell_type": "code",
   "execution_count": 7,
   "metadata": {},
   "outputs": [],
   "source": [
    "X_train_mean=[]\n",
    "X_train_med=[]\n",
    "Y_train=[]"
   ]
  },
  {
   "cell_type": "code",
   "execution_count": 8,
   "metadata": {},
   "outputs": [],
   "source": [
    "def get_x_y(dict_, em_label, algorithm):\n",
    "    x=[]\n",
    "    y=[]\n",
    "    set_of_pict = set()\n",
    "    for key in dict_.keys():\n",
    "    #     dict_[key.replace('../imgs/train_crops/negative/','')] = dict_.pop(key)\n",
    "        dict_[key.split('/')[-1]] = dict_.pop(key)\n",
    "    for key in dict_.keys():\n",
    "        set_of_pict.add(key.split('.')[0])\n",
    "    for pict in set_of_pict:\n",
    "        same_pict=[]\n",
    "        for key in dict_.keys():\n",
    "            if(key.split('.')[0]==pict):\n",
    "                same_pict.append(dict_[key])\n",
    "        same_pict=np.reshape(same_pict,(len(same_pict),-1))\n",
    "        x.append(algorithm(same_pict, axis=0))\n",
    "        y.append(em_label)\n",
    "    return x,y"
   ]
  },
  {
   "cell_type": "code",
   "execution_count": 9,
   "metadata": {},
   "outputs": [],
   "source": [
    "def euqMed(array, axis):\n",
    "    norm=la.norm(array, axis=0)\n",
    "    result=[]\n",
    "    for num in array:\n",
    "        result.append(num/norm)\n",
    "    return np.median(result, axis)\n",
    "        "
   ]
  },
  {
   "cell_type": "code",
   "execution_count": 10,
   "metadata": {},
   "outputs": [],
   "source": [
    "def euqMean(array, axis):\n",
    "    norm=la.norm(array, axis=0)\n",
    "    result=[]\n",
    "    for num in array:\n",
    "        result.append(num/norm)\n",
    "    return np.mean(result, axis)"
   ]
  },
  {
   "cell_type": "code",
   "execution_count": 11,
   "metadata": {},
   "outputs": [],
   "source": [
    "def medEuq(array, axis):\n",
    "    pre=np.median(array, axis=0)\n",
    "    norm=la.norm(pre, axis=0)\n",
    "    result=[]\n",
    "    for num in pre:\n",
    "        result.append(num/norm)\n",
    "    return result"
   ]
  },
  {
   "cell_type": "code",
   "execution_count": 12,
   "metadata": {},
   "outputs": [],
   "source": [
    "def meanEuq(array, axis):\n",
    "    pre=np.mean(array, axis=0)\n",
    "    norm=la.norm(pre, axis=0)\n",
    "    result=[]\n",
    "    for num in pre:\n",
    "        result.append(num/norm)\n",
    "    return result"
   ]
  },
  {
   "cell_type": "code",
   "execution_count": 14,
   "metadata": {},
   "outputs": [],
   "source": [
    "def euqMedEuq(array, axis):\n",
    "    norm1=la.norm(array, axis=0)\n",
    "    pre1=[]\n",
    "    for num in array:\n",
    "        pre1.append(num/norm1)\n",
    "    pre=np.median(pre1, axis=0)\n",
    "    norm=la.norm(pre, axis=0)\n",
    "    result=[]\n",
    "    for num in pre:\n",
    "        result.append(num/norm)\n",
    "    return result"
   ]
  },
  {
   "cell_type": "code",
   "execution_count": 15,
   "metadata": {},
   "outputs": [],
   "source": [
    "def euqMeanEuq(array, axis):\n",
    "    norm1=la.norm(array, axis=0)\n",
    "    pre1=[]\n",
    "    for num in array:\n",
    "        pre1.append(num/norm1)\n",
    "    pre=np.mean(pre1, axis=0)\n",
    "    norm=la.norm(pre, axis=0)\n",
    "    result=[]\n",
    "    for num in pre:\n",
    "        result.append(num/norm)\n",
    "    return result"
   ]
  },
  {
   "cell_type": "code",
   "execution_count": 16,
   "metadata": {},
   "outputs": [
    {
     "data": {
      "text/plain": [
       "[0.2214771578974141,\n",
       " 0.50079154855174446,\n",
       " 0.42202118902597635,\n",
       " 0.5051024419337341,\n",
       " 0.2095476664843812,\n",
       " 0.35902040490382814,\n",
       " 0.30678894525088635]"
      ]
     },
     "execution_count": 16,
     "metadata": {},
     "output_type": "execute_result"
    }
   ],
   "source": [
    "a=[[ 0.29722223,  0.00117917,  0.02923901 , 0.00683426 , 0.58585918 , 0.00453255,\n",
    "   0.07513357],\n",
    " [ 0.10253336 , 0.00632996 , 0.03143539 , 0.62696803 , 0.1888773  , 0.00323843,\n",
    "   0.0406175 ],\n",
    "  [ 0.10253336 , 0.00632996 , 0.03143539 , 0.62696803 , 0.1888773  , 0.00323843,\n",
    "   0.0406175 ]]\n",
    "euqMedEuq(a,0)\n",
    "# a=euqNormMed(a, axis=0)\n",
    "# print(a)"
   ]
  },
  {
   "cell_type": "code",
   "execution_count": 1,
   "metadata": {},
   "outputs": [
    {
     "ename": "NameError",
     "evalue": "name 'pickle' is not defined",
     "output_type": "error",
     "traceback": [
      "\u001b[0;31m---------------------------------------------------------------------------\u001b[0m",
      "\u001b[0;31mNameError\u001b[0m                                 Traceback (most recent call last)",
      "\u001b[0;32m<ipython-input-1-6e6c1be3470e>\u001b[0m in \u001b[0;36m<module>\u001b[0;34m()\u001b[0m\n\u001b[0;32m----> 1\u001b[0;31m \u001b[0mx\u001b[0m\u001b[0;34m=\u001b[0m\u001b[0mpickle\u001b[0m\u001b[0;34m.\u001b[0m\u001b[0mload\u001b[0m\u001b[0;34m(\u001b[0m\u001b[0mopen\u001b[0m\u001b[0;34m(\u001b[0m\u001b[0;34m'neutral_prob_val'\u001b[0m\u001b[0;34m,\u001b[0m\u001b[0;34m'rb'\u001b[0m\u001b[0;34m)\u001b[0m\u001b[0;34m)\u001b[0m\u001b[0;34m\u001b[0m\u001b[0m\n\u001b[0m\u001b[1;32m      2\u001b[0m \u001b[0mget_x_y\u001b[0m\u001b[0;34m(\u001b[0m\u001b[0mx\u001b[0m\u001b[0;34m,\u001b[0m \u001b[0;34m'neutral'\u001b[0m\u001b[0;34m,\u001b[0m \u001b[0mmedEuq\u001b[0m\u001b[0;34m)\u001b[0m\u001b[0;34m\u001b[0m\u001b[0m\n",
      "\u001b[0;31mNameError\u001b[0m: name 'pickle' is not defined"
     ]
    }
   ],
   "source": [
    "x=pickle.load(open('neutral_prob_val','rb'))\n",
    "get_x_y(x, 'neutral', medEuq)"
   ]
  },
  {
   "cell_type": "code",
   "execution_count": 25,
   "metadata": {},
   "outputs": [],
   "source": [
    "x,y=create_full_vector_and_dump('train', 'emb', euqMed)\n",
    "x,y=create_full_vector_and_dump('val', 'emb', euqMed)\n",
    "x,y=create_full_vector_and_dump('train', 'emb', euqMean)\n",
    "x,y=create_full_vector_and_dump('val', 'emb', euqMean)\n",
    "x,y=create_full_vector_and_dump('train', 'emb', euqMeanEuq)\n",
    "x,y=create_full_vector_and_dump('val', 'emb', euqMeanEuq)\n",
    "x,y=create_full_vector_and_dump('train', 'emb', euqMedEuq)\n",
    "x,y=create_full_vector_and_dump('val', 'emb', euqMedEuq)\n",
    "x,y=create_full_vector_and_dump('train', 'emb', medEuq)\n",
    "x,y=create_full_vector_and_dump('val', 'emb', medEuq)\n",
    "x,y=create_full_vector_and_dump('train', 'emb', meanEuq)\n",
    "x,y=create_full_vector_and_dump('val', 'emb', meanEuq)\n"
   ]
  },
  {
   "cell_type": "code",
   "execution_count": 18,
   "metadata": {},
   "outputs": [],
   "source": [
    "def create_full_vector_and_dump(train_or_val, layer_label, algorithm):\n",
    "    x=[]\n",
    "    y=[]\n",
    "    em_label='negative'\n",
    "    dict_ = pickle.load( open( em_label+'_'+layer_label+'_'+train_or_val, \"rb\" ) )\n",
    "    x_,y_ = get_x_y(dict_, em_label, algorithm)\n",
    "    x.extend(x_)\n",
    "    y.extend(y_)\n",
    "    em_label='positive'\n",
    "    dict_ = pickle.load( open( em_label+'_'+layer_label+'_'+train_or_val, \"rb\" ) )\n",
    "    x_,y_ = get_x_y(dict_, em_label, algorithm)\n",
    "    x.extend(x_)\n",
    "    y.extend(y_)\n",
    "    em_label='neutral'\n",
    "    dict_ = pickle.load( open( em_label+'_'+layer_label+'_'+train_or_val, \"rb\" ) )\n",
    "    x_,y_ = get_x_y(dict_, em_label, algorithm)\n",
    "    x.extend(x_)\n",
    "    y.extend(y_)\n",
    "    file=open('x'+'_'+train_or_val+'_'+layer_label+'_'+str(algorithm).split(' ')[1], 'wb')\n",
    "    pickle.dump(x,file)\n",
    "    file=open('y'+'_'+train_or_val+'_'+layer_label+'_'+str(algorithm).split(' ')[1], 'wb')\n",
    "    pickle.dump(y,file)\n",
    "    return x,y\n",
    "    \n",
    "    \n",
    "    \n",
    "    "
   ]
  },
  {
   "cell_type": "code",
   "execution_count": 37,
   "metadata": {},
   "outputs": [],
   "source": [
    " def create_dump_all_vectors():\n",
    "    x,y=create_full_vector_and_dump('val', 'prob', np.median)\n",
    "    x,y=create_full_vector_and_dump('train', 'prob', np.median)\n",
    "    x,y=create_full_vector_and_dump('val', 'emb', np.median)\n",
    "    x,y=create_full_vector_and_dump('train', 'emb', np.median)\n",
    "    x,y=create_full_vector_and_dump('val', 'prob', np.mean)\n",
    "    x,y=create_full_vector_and_dump('train', 'prob', np.mean)\n",
    "    x,y=create_full_vector_and_dump('val', 'emb', np.mean)\n",
    "    x,y=create_full_vector_and_dump('train', 'emb', np.mean)\n",
    "    \n",
    "\n",
    "\n"
   ]
  },
  {
   "cell_type": "code",
   "execution_count": 17,
   "metadata": {},
   "outputs": [
    {
     "data": {
      "text/plain": [
       "[1, 2, 3]"
      ]
     },
     "execution_count": 17,
     "metadata": {},
     "output_type": "execute_result"
    }
   ],
   "source": [
    "x,y=create_full_vector_and_dump('train', 'prob', euqMed)"
   ]
  },
  {
   "cell_type": "code",
   "execution_count": 25,
   "metadata": {},
   "outputs": [
    {
     "data": {
      "text/plain": [
       "2001"
      ]
     },
     "execution_count": 25,
     "metadata": {},
     "output_type": "execute_result"
    }
   ],
   "source": [
    "len(y)"
   ]
  },
  {
   "cell_type": "code",
   "execution_count": 30,
   "metadata": {},
   "outputs": [
    {
     "name": "stdout",
     "output_type": "stream",
     "text": [
      "mean\n"
     ]
    }
   ],
   "source": [
    "print(str(np.mean).split(' ')[1])"
   ]
  },
  {
   "cell_type": "code",
   "execution_count": 23,
   "metadata": {},
   "outputs": [],
   "source": [
    "x,y=create_full_vector_and_dump('val', 'emb', medEuq)"
   ]
  },
  {
   "cell_type": "code",
   "execution_count": 20,
   "metadata": {},
   "outputs": [
    {
     "data": {
      "text/plain": [
       "array([ 0.1743919 , -0.17559081, -0.05427168, -0.2181477 ,  0.21934783,\n",
       "        0.39407408,  0.23180464, -0.28957728, -0.30133435, -0.13413733,\n",
       "       -0.28641504,  0.31115186,  0.15034027,  0.37326735,  0.27618435,\n",
       "       -0.43320766,  0.18165244, -0.47634122,  0.51338255,  0.170081  ,\n",
       "        0.41071776,  0.49535513, -0.526613  , -0.11422977, -0.18366168,\n",
       "        0.27454087,  0.13825321,  0.45665726,  0.13690995, -0.33274645,\n",
       "        0.21524607,  0.49872261, -0.24666336, -0.3504076 , -0.32276735,\n",
       "       -0.11033203, -0.27693331,  0.13209164,  0.45460087,  0.16376339,\n",
       "       -0.55635977, -0.30924079,  0.25138572, -0.5331732 ,  0.40098339,\n",
       "       -0.02355459,  0.41618749, -0.41985136, -0.01716863,  0.43893379,\n",
       "       -0.47031105, -0.02744249, -0.04198363,  0.48250121, -0.3232227 ,\n",
       "        0.08933094,  0.16951083, -0.13057882,  0.24430759, -0.16386539,\n",
       "        0.26889512, -0.44884533, -0.06315336,  0.02201083, -0.19619943,\n",
       "       -0.11961256,  0.18214822,  0.46306738, -0.31187943,  0.13281895,\n",
       "        0.46662021, -0.13907519, -0.08572413,  0.06825486,  0.47103193,\n",
       "       -0.50878388,  0.2587676 ,  0.5498175 , -0.16100323, -0.4007473 ,\n",
       "        0.28430247,  0.21006057, -0.42889351, -0.05103189,  0.40251845,\n",
       "        0.14896326,  0.55057549, -0.42019153,  0.41313672, -0.48518151,\n",
       "        0.17306772,  0.30814454,  0.21888705,  0.42113668, -0.49497807,\n",
       "        0.52648723, -0.38775697, -0.29193804,  0.47421587, -0.03502323,\n",
       "        0.4313302 , -0.37634403,  0.35641262, -0.2835179 ,  0.19006079,\n",
       "        0.45996821, -0.47966599,  0.28328955, -0.37682861, -0.22015601,\n",
       "       -0.32976913,  0.34211549], dtype=float32)"
      ]
     },
     "execution_count": 20,
     "metadata": {},
     "output_type": "execute_result"
    }
   ],
   "source": [
    "x[2000]"
   ]
  },
  {
   "cell_type": "code",
   "execution_count": 24,
   "metadata": {},
   "outputs": [
    {
     "data": {
      "text/plain": [
       "[0.027022585,\n",
       " -0.066615023,\n",
       " -0.0085410681,\n",
       " -0.05309727,\n",
       " 0.026696276,\n",
       " 0.04825915,\n",
       " 0.038487803,\n",
       " -0.063664176,\n",
       " -0.18505423,\n",
       " -0.024023157,\n",
       " -0.089688219,\n",
       " 0.047103886,\n",
       " 0.041790765,\n",
       " 0.11103685,\n",
       " 0.030817153,\n",
       " -0.27714252,\n",
       " 0.048994761,\n",
       " -0.15601489,\n",
       " 0.061956212,\n",
       " 0.02667081,\n",
       " 0.089716442,\n",
       " 0.075980209,\n",
       " -0.1406339,\n",
       " -0.030003972,\n",
       " -0.023935065,\n",
       " 0.024942527,\n",
       " 0.026598658,\n",
       " 0.074107051,\n",
       " 0.024973055,\n",
       " -0.067976989,\n",
       " 0.03813218,\n",
       " 0.10316904,\n",
       " -0.020503284,\n",
       " -0.10373275,\n",
       " -0.041358188,\n",
       " -0.029124459,\n",
       " -0.094362117,\n",
       " 0.036950804,\n",
       " 0.16679218,\n",
       " 0.012972655,\n",
       " -0.3382335,\n",
       " -0.059863381,\n",
       " 0.085769959,\n",
       " -0.27959448,\n",
       " 0.11011284,\n",
       " -0.0048069791,\n",
       " 0.11360953,\n",
       " -0.25666094,\n",
       " -0.0026822835,\n",
       " 0.13936873,\n",
       " -0.19307135,\n",
       " -0.0020418379,\n",
       " -0.0042476468,\n",
       " 0.065853104,\n",
       " -0.12161777,\n",
       " 0.013726293,\n",
       " 0.042758495,\n",
       " -0.050171826,\n",
       " 0.021851445,\n",
       " -0.065417998,\n",
       " 0.058020592,\n",
       " -0.064320669,\n",
       " -0.012550099,\n",
       " 0.0055566947,\n",
       " -0.06590312,\n",
       " -0.012253873,\n",
       " 0.044954523,\n",
       " 0.1200607,\n",
       " -0.042782437,\n",
       " 0.022632526,\n",
       " 0.1904007,\n",
       " -0.059572436,\n",
       " -0.015175291,\n",
       " 0.02696603,\n",
       " 0.1420863,\n",
       " -0.14872141,\n",
       " 0.054635908,\n",
       " 0.22108212,\n",
       " -0.041340668,\n",
       " -0.062303618,\n",
       " 0.03792686,\n",
       " 0.044524364,\n",
       " -0.11848103,\n",
       " -0.011546292,\n",
       " 0.073534586,\n",
       " 0.023661645,\n",
       " 0.052593499,\n",
       " -0.10302011,\n",
       " 0.049578506,\n",
       " -0.086850874,\n",
       " 0.013911155,\n",
       " 0.068659164,\n",
       " 0.069408216,\n",
       " 0.058825418,\n",
       " -0.12995116,\n",
       " 0.080920659,\n",
       " -0.062396131,\n",
       " -0.036709547,\n",
       " 0.11294752,\n",
       " -0.0083701117,\n",
       " 0.079607911,\n",
       " -0.098099716,\n",
       " 0.055901594,\n",
       " -0.069839865,\n",
       " 0.016862649,\n",
       " 0.091525503,\n",
       " -0.079418875,\n",
       " 0.034238823,\n",
       " -0.078466304,\n",
       " -0.026869452,\n",
       " -0.046007436,\n",
       " 0.046010971]"
      ]
     },
     "execution_count": 24,
     "metadata": {},
     "output_type": "execute_result"
    }
   ],
   "source": [
    "x[2000]"
   ]
  },
  {
   "cell_type": "code",
   "execution_count": null,
   "metadata": {},
   "outputs": [],
   "source": []
  },
  {
   "cell_type": "code",
   "execution_count": 73,
   "metadata": {},
   "outputs": [],
   "source": [
    "X_train_mean=pickle.load( open( '../../../Diplom/face_classification/src/x_val_mean_prob.txt', \"rb\" ) )\n",
    "X_train_med=pickle.load( open( '../../../Diplom/face_classification/src/x_val_med_prob.txt', \"rb\" ) )\n",
    "# Y_train=pickle.load( open( '../../../Diplom/face_classification/src/y_val.txt', \"rb\" ) )"
   ]
  },
  {
   "cell_type": "code",
   "execution_count": null,
   "metadata": {},
   "outputs": [],
   "source": []
  },
  {
   "cell_type": "code",
   "execution_count": null,
   "metadata": {},
   "outputs": [],
   "source": []
  },
  {
   "cell_type": "code",
   "execution_count": null,
   "metadata": {},
   "outputs": [],
   "source": []
  },
  {
   "cell_type": "code",
   "execution_count": null,
   "metadata": {},
   "outputs": [],
   "source": []
  },
  {
   "cell_type": "code",
   "execution_count": 3,
   "metadata": {},
   "outputs": [
    {
     "ename": "NameError",
     "evalue": "name 'Y_train' is not defined",
     "output_type": "error",
     "traceback": [
      "\u001b[0;31m---------------------------------------------------------------------------\u001b[0m",
      "\u001b[0;31mNameError\u001b[0m                                 Traceback (most recent call last)",
      "\u001b[0;32m<ipython-input-3-025b3acc1c87>\u001b[0m in \u001b[0;36m<module>\u001b[0;34m()\u001b[0m\n\u001b[0;32m----> 1\u001b[0;31m \u001b[0mprint\u001b[0m\u001b[0;34m(\u001b[0m\u001b[0mlen\u001b[0m\u001b[0;34m(\u001b[0m\u001b[0mY_train\u001b[0m\u001b[0;34m)\u001b[0m\u001b[0;34m)\u001b[0m\u001b[0;34m\u001b[0m\u001b[0m\n\u001b[0m\u001b[1;32m      2\u001b[0m \u001b[0mprint\u001b[0m\u001b[0;34m(\u001b[0m\u001b[0mlen\u001b[0m\u001b[0;34m(\u001b[0m\u001b[0mX_train_mean\u001b[0m\u001b[0;34m)\u001b[0m\u001b[0;34m)\u001b[0m\u001b[0;34m\u001b[0m\u001b[0m\n\u001b[1;32m      3\u001b[0m \u001b[0mprint\u001b[0m\u001b[0;34m(\u001b[0m\u001b[0mlen\u001b[0m\u001b[0;34m(\u001b[0m\u001b[0mX_train_med\u001b[0m\u001b[0;34m)\u001b[0m\u001b[0;34m)\u001b[0m\u001b[0;34m\u001b[0m\u001b[0m\n\u001b[1;32m      4\u001b[0m \u001b[0mprint\u001b[0m\u001b[0;34m(\u001b[0m\u001b[0mX_train_mean\u001b[0m\u001b[0;34m[\u001b[0m\u001b[0;34m-\u001b[0m\u001b[0;36m1\u001b[0m\u001b[0;34m]\u001b[0m\u001b[0;34m)\u001b[0m\u001b[0;34m\u001b[0m\u001b[0m\n\u001b[1;32m      5\u001b[0m \u001b[0mprint\u001b[0m\u001b[0;34m(\u001b[0m\u001b[0mX_train_med\u001b[0m\u001b[0;34m[\u001b[0m\u001b[0;34m-\u001b[0m\u001b[0;36m1\u001b[0m\u001b[0;34m]\u001b[0m\u001b[0;34m)\u001b[0m\u001b[0;34m\u001b[0m\u001b[0m\n",
      "\u001b[0;31mNameError\u001b[0m: name 'Y_train' is not defined"
     ]
    }
   ],
   "source": [
    "print(len(Y_train))\n",
    "print(len(X_train_mean))\n",
    "print(len(X_train_med))\n",
    "print(X_train_mean[-1])\n",
    "print(X_train_med[-1])\n",
    "print(Y_train)"
   ]
  },
  {
   "cell_type": "code",
   "execution_count": null,
   "metadata": {},
   "outputs": [],
   "source": []
  },
  {
   "cell_type": "code",
   "execution_count": null,
   "metadata": {},
   "outputs": [],
   "source": []
  },
  {
   "cell_type": "code",
   "execution_count": null,
   "metadata": {},
   "outputs": [],
   "source": []
  },
  {
   "cell_type": "code",
   "execution_count": null,
   "metadata": {},
   "outputs": [],
   "source": []
  },
  {
   "cell_type": "code",
   "execution_count": null,
   "metadata": {},
   "outputs": [],
   "source": []
  },
  {
   "cell_type": "code",
   "execution_count": null,
   "metadata": {},
   "outputs": [],
   "source": []
  },
  {
   "cell_type": "code",
   "execution_count": null,
   "metadata": {},
   "outputs": [],
   "source": []
  },
  {
   "cell_type": "code",
   "execution_count": null,
   "metadata": {},
   "outputs": [],
   "source": []
  },
  {
   "cell_type": "code",
   "execution_count": null,
   "metadata": {},
   "outputs": [],
   "source": []
  },
  {
   "cell_type": "code",
   "execution_count": 17,
   "metadata": {},
   "outputs": [],
   "source": [
    "file=open('x_val_mean_prob.txt', 'wb')\n",
    "pickle.dump(X_train_mean,file)\n",
    "file=open('x_val_med_prob.txt', 'wb')\n",
    "pickle.dump(X_train_med,file)\n",
    "# file=open('y_val.txt', 'wb')\n",
    "# pickle.dump(Y_train,file)\n"
   ]
  },
  {
   "cell_type": "code",
   "execution_count": null,
   "metadata": {},
   "outputs": [],
   "source": []
  },
  {
   "cell_type": "code",
   "execution_count": 88,
   "metadata": {},
   "outputs": [
    {
     "data": {
      "text/plain": [
       "2000"
      ]
     },
     "execution_count": 88,
     "metadata": {},
     "output_type": "execute_result"
    }
   ],
   "source": [
    "Y_val=pickle.load( open( '../../../Diplom/face_classification/src/y_val.txt', \"rb\" ) )\n",
    "len(Y_val)"
   ]
  },
  {
   "cell_type": "code",
   "execution_count": null,
   "metadata": {},
   "outputs": [],
   "source": []
  },
  {
   "cell_type": "code",
   "execution_count": null,
   "metadata": {},
   "outputs": [],
   "source": []
  },
  {
   "cell_type": "code",
   "execution_count": null,
   "metadata": {},
   "outputs": [],
   "source": []
  },
  {
   "cell_type": "code",
   "execution_count": null,
   "metadata": {},
   "outputs": [],
   "source": []
  },
  {
   "cell_type": "code",
   "execution_count": null,
   "metadata": {},
   "outputs": [],
   "source": []
  },
  {
   "cell_type": "code",
   "execution_count": null,
   "metadata": {},
   "outputs": [],
   "source": []
  },
  {
   "cell_type": "code",
   "execution_count": null,
   "metadata": {},
   "outputs": [],
   "source": []
  },
  {
   "cell_type": "code",
   "execution_count": null,
   "metadata": {},
   "outputs": [],
   "source": []
  },
  {
   "cell_type": "code",
   "execution_count": null,
   "metadata": {},
   "outputs": [],
   "source": []
  },
  {
   "cell_type": "code",
   "execution_count": null,
   "metadata": {},
   "outputs": [],
   "source": []
  },
  {
   "cell_type": "code",
   "execution_count": null,
   "metadata": {},
   "outputs": [],
   "source": []
  },
  {
   "cell_type": "code",
   "execution_count": null,
   "metadata": {},
   "outputs": [],
   "source": []
  },
  {
   "cell_type": "code",
   "execution_count": null,
   "metadata": {},
   "outputs": [],
   "source": []
  },
  {
   "cell_type": "code",
   "execution_count": null,
   "metadata": {},
   "outputs": [],
   "source": []
  },
  {
   "cell_type": "code",
   "execution_count": null,
   "metadata": {},
   "outputs": [],
   "source": []
  },
  {
   "cell_type": "code",
   "execution_count": null,
   "metadata": {},
   "outputs": [],
   "source": []
  },
  {
   "cell_type": "code",
   "execution_count": null,
   "metadata": {},
   "outputs": [],
   "source": []
  },
  {
   "cell_type": "code",
   "execution_count": 4,
   "metadata": {},
   "outputs": [],
   "source": [
    "# a=dict_['TrainNegative0514-soccer.jpgface5.bmp']\n",
    "# b=dict_['TrainNegative0514-soccer.jpgface6.bmp']\n",
    "# c=dict_['TrainNegative0514-soccer.jpgface7.bmp']\n",
    "# print('a = ',a)\n",
    "# print('b = ',b)\n",
    "# print('c = ',c)\n",
    "# d=[a,b,c]\n",
    "# np.median(d,axis=0)"
   ]
  },
  {
   "cell_type": "code",
   "execution_count": null,
   "metadata": {},
   "outputs": [],
   "source": []
  },
  {
   "cell_type": "code",
   "execution_count": null,
   "metadata": {},
   "outputs": [],
   "source": []
  },
  {
   "cell_type": "code",
   "execution_count": null,
   "metadata": {},
   "outputs": [],
   "source": []
  },
  {
   "cell_type": "code",
   "execution_count": null,
   "metadata": {},
   "outputs": [],
   "source": []
  },
  {
   "cell_type": "code",
   "execution_count": null,
   "metadata": {},
   "outputs": [],
   "source": []
  },
  {
   "cell_type": "code",
   "execution_count": null,
   "metadata": {},
   "outputs": [],
   "source": []
  },
  {
   "cell_type": "code",
   "execution_count": null,
   "metadata": {},
   "outputs": [],
   "source": []
  },
  {
   "cell_type": "code",
   "execution_count": null,
   "metadata": {},
   "outputs": [],
   "source": []
  },
  {
   "cell_type": "code",
   "execution_count": null,
   "metadata": {},
   "outputs": [],
   "source": []
  },
  {
   "cell_type": "code",
   "execution_count": null,
   "metadata": {},
   "outputs": [],
   "source": []
  },
  {
   "cell_type": "code",
   "execution_count": null,
   "metadata": {},
   "outputs": [],
   "source": []
  },
  {
   "cell_type": "code",
   "execution_count": null,
   "metadata": {},
   "outputs": [],
   "source": []
  },
  {
   "cell_type": "code",
   "execution_count": null,
   "metadata": {},
   "outputs": [],
   "source": []
  },
  {
   "cell_type": "code",
   "execution_count": null,
   "metadata": {},
   "outputs": [],
   "source": []
  },
  {
   "cell_type": "code",
   "execution_count": null,
   "metadata": {},
   "outputs": [],
   "source": []
  },
  {
   "cell_type": "code",
   "execution_count": null,
   "metadata": {},
   "outputs": [],
   "source": []
  },
  {
   "cell_type": "code",
   "execution_count": null,
   "metadata": {},
   "outputs": [],
   "source": []
  },
  {
   "cell_type": "code",
   "execution_count": null,
   "metadata": {},
   "outputs": [],
   "source": []
  },
  {
   "cell_type": "code",
   "execution_count": null,
   "metadata": {},
   "outputs": [],
   "source": []
  },
  {
   "cell_type": "code",
   "execution_count": null,
   "metadata": {},
   "outputs": [],
   "source": []
  },
  {
   "cell_type": "code",
   "execution_count": null,
   "metadata": {},
   "outputs": [],
   "source": []
  },
  {
   "cell_type": "code",
   "execution_count": null,
   "metadata": {},
   "outputs": [],
   "source": []
  },
  {
   "cell_type": "code",
   "execution_count": null,
   "metadata": {},
   "outputs": [],
   "source": []
  },
  {
   "cell_type": "code",
   "execution_count": null,
   "metadata": {},
   "outputs": [],
   "source": []
  },
  {
   "cell_type": "code",
   "execution_count": null,
   "metadata": {},
   "outputs": [],
   "source": []
  },
  {
   "cell_type": "code",
   "execution_count": 11,
   "metadata": {},
   "outputs": [
    {
     "data": {
      "text/plain": [
       "'TrainNegativeBN-ES939_0926FR_G_20140926151428'"
      ]
     },
     "execution_count": 11,
     "metadata": {},
     "output_type": "execute_result"
    }
   ],
   "source": [
    "'TrainNegativeBN-ES939_0926FR_G_20140926151428.jpgface0.bmp'.split('.')[0]"
   ]
  },
  {
   "cell_type": "code",
   "execution_count": null,
   "metadata": {},
   "outputs": [],
   "source": []
  },
  {
   "cell_type": "code",
   "execution_count": null,
   "metadata": {},
   "outputs": [],
   "source": []
  },
  {
   "cell_type": "code",
   "execution_count": null,
   "metadata": {},
   "outputs": [],
   "source": []
  },
  {
   "cell_type": "code",
   "execution_count": null,
   "metadata": {},
   "outputs": [],
   "source": []
  },
  {
   "cell_type": "code",
   "execution_count": null,
   "metadata": {},
   "outputs": [],
   "source": []
  },
  {
   "cell_type": "code",
   "execution_count": null,
   "metadata": {},
   "outputs": [],
   "source": []
  },
  {
   "cell_type": "code",
   "execution_count": null,
   "metadata": {},
   "outputs": [],
   "source": []
  },
  {
   "cell_type": "code",
   "execution_count": null,
   "metadata": {},
   "outputs": [],
   "source": []
  },
  {
   "cell_type": "code",
   "execution_count": null,
   "metadata": {},
   "outputs": [],
   "source": []
  }
 ],
 "metadata": {
  "kernelspec": {
   "display_name": "Python 3",
   "language": "python",
   "name": "python3"
  },
  "language_info": {
   "codemirror_mode": {
    "name": "ipython",
    "version": 3
   },
   "file_extension": ".py",
   "mimetype": "text/x-python",
   "name": "python",
   "nbconvert_exporter": "python",
   "pygments_lexer": "ipython3",
   "version": "3.5.2"
  }
 },
 "nbformat": 4,
 "nbformat_minor": 2
}
